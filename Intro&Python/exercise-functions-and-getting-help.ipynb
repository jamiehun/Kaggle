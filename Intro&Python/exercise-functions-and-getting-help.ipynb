{
 "cells": [
  {
   "cell_type": "markdown",
   "id": "5edab425",
   "metadata": {
    "papermill": {
     "duration": 0.007354,
     "end_time": "2022-06-29T06:14:55.468046",
     "exception": false,
     "start_time": "2022-06-29T06:14:55.460692",
     "status": "completed"
    },
    "tags": []
   },
   "source": [
    "**This notebook is an exercise in the [Python](https://www.kaggle.com/learn/python) course.  You can reference the tutorial at [this link](https://www.kaggle.com/colinmorris/functions-and-getting-help).**\n",
    "\n",
    "---\n"
   ]
  },
  {
   "cell_type": "markdown",
   "id": "29234dad",
   "metadata": {
    "papermill": {
     "duration": 0.005354,
     "end_time": "2022-06-29T06:14:55.479193",
     "exception": false,
     "start_time": "2022-06-29T06:14:55.473839",
     "status": "completed"
    },
    "tags": []
   },
   "source": [
    "Functions are powerful. Try writing some yourself.\n",
    "\n",
    "As before, don't forget to run the setup code below before jumping into question 1."
   ]
  },
  {
   "cell_type": "code",
   "execution_count": 1,
   "id": "556b1801",
   "metadata": {
    "_kg_hide-input": true,
    "_kg_hide-output": true,
    "execution": {
     "iopub.execute_input": "2022-06-29T06:14:55.493236Z",
     "iopub.status.busy": "2022-06-29T06:14:55.492236Z",
     "iopub.status.idle": "2022-06-29T06:14:55.547780Z",
     "shell.execute_reply": "2022-06-29T06:14:55.546901Z"
    },
    "papermill": {
     "duration": 0.065776,
     "end_time": "2022-06-29T06:14:55.550471",
     "exception": false,
     "start_time": "2022-06-29T06:14:55.484695",
     "status": "completed"
    },
    "tags": []
   },
   "outputs": [
    {
     "name": "stdout",
     "output_type": "stream",
     "text": [
      "Setup complete.\n"
     ]
    }
   ],
   "source": [
    "# SETUP. You don't need to worry for now about what this code does or how it works.\n",
    "from learntools.core import binder; binder.bind(globals())\n",
    "from learntools.python.ex2 import *\n",
    "print('Setup complete.')"
   ]
  },
  {
   "cell_type": "markdown",
   "id": "d37b1eb9",
   "metadata": {
    "papermill": {
     "duration": 0.005363,
     "end_time": "2022-06-29T06:14:55.562366",
     "exception": false,
     "start_time": "2022-06-29T06:14:55.557003",
     "status": "completed"
    },
    "tags": []
   },
   "source": [
    "# 1.\n",
    "\n",
    "Complete the body of the following function according to its docstring.\n",
    "\n",
    "HINT: Python has a built-in function `round`."
   ]
  },
  {
   "cell_type": "code",
   "execution_count": 2,
   "id": "1afb1ec8",
   "metadata": {
    "execution": {
     "iopub.execute_input": "2022-06-29T06:14:55.575442Z",
     "iopub.status.busy": "2022-06-29T06:14:55.574811Z",
     "iopub.status.idle": "2022-06-29T06:14:55.585316Z",
     "shell.execute_reply": "2022-06-29T06:14:55.584486Z"
    },
    "papermill": {
     "duration": 0.019597,
     "end_time": "2022-06-29T06:14:55.587354",
     "exception": false,
     "start_time": "2022-06-29T06:14:55.567757",
     "status": "completed"
    },
    "tags": []
   },
   "outputs": [
    {
     "data": {
      "application/javascript": [
       "parent.postMessage({\"jupyterEvent\": \"custom.exercise_interaction\", \"data\": {\"outcomeType\": 1, \"valueTowardsCompletion\": 0.16666666666666666, \"interactionType\": 1, \"questionType\": 2, \"questionId\": \"1_RoundFunctionProblem\", \"learnToolsVersion\": \"0.3.4\", \"failureMessage\": \"\", \"exceptionClass\": \"\", \"trace\": \"\"}}, \"*\")"
      ],
      "text/plain": [
       "<IPython.core.display.Javascript object>"
      ]
     },
     "metadata": {},
     "output_type": "display_data"
    },
    {
     "data": {
      "text/markdown": [
       "<span style=\"color:#33cc33\">Correct</span>"
      ],
      "text/plain": [
       "Correct"
      ]
     },
     "metadata": {},
     "output_type": "display_data"
    }
   ],
   "source": [
    "def round_to_two_places(num):\n",
    "    \"\"\"Return the given number rounded to two decimal places. \n",
    "    \n",
    "    >>> round_to_two_places(3.14159)\n",
    "    3.14\n",
    "    \"\"\"\n",
    "    # Replace this body with your own code.\n",
    "    # (\"pass\" is a keyword that does literally nothing. We used it as a placeholder\n",
    "    # because after we begin a code block, Python requires at least one line of code)\n",
    "    return round(num, 2)\n",
    "\n",
    "# Check your answer\n",
    "q1.check()"
   ]
  },
  {
   "cell_type": "code",
   "execution_count": 3,
   "id": "61bff3bf",
   "metadata": {
    "execution": {
     "iopub.execute_input": "2022-06-29T06:14:55.601196Z",
     "iopub.status.busy": "2022-06-29T06:14:55.600565Z",
     "iopub.status.idle": "2022-06-29T06:14:55.606536Z",
     "shell.execute_reply": "2022-06-29T06:14:55.605284Z"
    },
    "papermill": {
     "duration": 0.015467,
     "end_time": "2022-06-29T06:14:55.608693",
     "exception": false,
     "start_time": "2022-06-29T06:14:55.593226",
     "status": "completed"
    },
    "tags": []
   },
   "outputs": [
    {
     "name": "stdout",
     "output_type": "stream",
     "text": [
      "Help on built-in function round in module builtins:\n",
      "\n",
      "round(number, ndigits=None)\n",
      "    Round a number to a given precision in decimal digits.\n",
      "    \n",
      "    The return value is an integer if ndigits is omitted or None.  Otherwise\n",
      "    the return value has the same type as the number.  ndigits may be negative.\n",
      "\n"
     ]
    }
   ],
   "source": [
    "help(round)"
   ]
  },
  {
   "cell_type": "code",
   "execution_count": 4,
   "id": "744f8a24",
   "metadata": {
    "execution": {
     "iopub.execute_input": "2022-06-29T06:14:55.622841Z",
     "iopub.status.busy": "2022-06-29T06:14:55.621853Z",
     "iopub.status.idle": "2022-06-29T06:14:55.631997Z",
     "shell.execute_reply": "2022-06-29T06:14:55.631221Z"
    },
    "papermill": {
     "duration": 0.01916,
     "end_time": "2022-06-29T06:14:55.633910",
     "exception": false,
     "start_time": "2022-06-29T06:14:55.614750",
     "status": "completed"
    },
    "tags": []
   },
   "outputs": [
    {
     "data": {
      "application/javascript": [
       "parent.postMessage({\"jupyterEvent\": \"custom.exercise_interaction\", \"data\": {\"interactionType\": 2, \"questionType\": 2, \"questionId\": \"1_RoundFunctionProblem\", \"learnToolsVersion\": \"0.3.4\", \"valueTowardsCompletion\": 0.0, \"failureMessage\": \"\", \"exceptionClass\": \"\", \"trace\": \"\", \"outcomeType\": 4}}, \"*\")"
      ],
      "text/plain": [
       "<IPython.core.display.Javascript object>"
      ]
     },
     "metadata": {},
     "output_type": "display_data"
    },
    {
     "data": {
      "text/markdown": [
       "<span style=\"color:#3366cc\">Hint:</span> Run `help(round)` in the console (or in a code cell) to learn more about the round function. You'll need to use the function's optional second argument."
      ],
      "text/plain": [
       "Hint: Run `help(round)` in the console (or in a code cell) to learn more about the round function. You'll need to use the function's optional second argument."
      ]
     },
     "metadata": {},
     "output_type": "display_data"
    },
    {
     "data": {
      "application/javascript": [
       "parent.postMessage({\"jupyterEvent\": \"custom.exercise_interaction\", \"data\": {\"interactionType\": 3, \"questionType\": 2, \"questionId\": \"1_RoundFunctionProblem\", \"learnToolsVersion\": \"0.3.4\", \"valueTowardsCompletion\": 0.0, \"failureMessage\": \"\", \"exceptionClass\": \"\", \"trace\": \"\", \"outcomeType\": 4}}, \"*\")"
      ],
      "text/plain": [
       "<IPython.core.display.Javascript object>"
      ]
     },
     "metadata": {},
     "output_type": "display_data"
    },
    {
     "data": {
      "text/markdown": [
       "<span style=\"color:#33cc99\">Solution:</span> \n",
       "```python\n",
       "return round(num, 2)\n",
       "```"
      ],
      "text/plain": [
       "Solution: \n",
       "```python\n",
       "return round(num, 2)\n",
       "```"
      ]
     },
     "metadata": {},
     "output_type": "display_data"
    }
   ],
   "source": [
    "# Uncomment the following for a hint\n",
    "q1.hint()\n",
    "# Or uncomment the following to peek at the solution\n",
    "q1.solution()"
   ]
  },
  {
   "cell_type": "markdown",
   "id": "8ef3e7d3",
   "metadata": {
    "papermill": {
     "duration": 0.007,
     "end_time": "2022-06-29T06:14:55.647447",
     "exception": false,
     "start_time": "2022-06-29T06:14:55.640447",
     "status": "completed"
    },
    "tags": []
   },
   "source": [
    "# 2.\n",
    "The help for `round` says that `ndigits` (the second argument) may be negative.\n",
    "What do you think will happen when it is? Try some examples in the following cell."
   ]
  },
  {
   "cell_type": "code",
   "execution_count": 5,
   "id": "aca43926",
   "metadata": {
    "execution": {
     "iopub.execute_input": "2022-06-29T06:14:55.663062Z",
     "iopub.status.busy": "2022-06-29T06:14:55.662411Z",
     "iopub.status.idle": "2022-06-29T06:14:55.670827Z",
     "shell.execute_reply": "2022-06-29T06:14:55.669114Z"
    },
    "papermill": {
     "duration": 0.018841,
     "end_time": "2022-06-29T06:14:55.673236",
     "exception": false,
     "start_time": "2022-06-29T06:14:55.654395",
     "status": "completed"
    },
    "tags": []
   },
   "outputs": [
    {
     "name": "stdout",
     "output_type": "stream",
     "text": [
      "2.15\n",
      "2\n",
      "-2.15\n",
      "-0.0\n"
     ]
    }
   ],
   "source": [
    "# Put your test code here\n",
    "print(round(2.1452, 2))\n",
    "print(round(2.1452))\n",
    "print(round(-2.1452, 2))\n",
    "print(round(-2.1452, -2))"
   ]
  },
  {
   "cell_type": "markdown",
   "id": "7636da06",
   "metadata": {
    "papermill": {
     "duration": 0.009359,
     "end_time": "2022-06-29T06:14:55.692312",
     "exception": false,
     "start_time": "2022-06-29T06:14:55.682953",
     "status": "completed"
    },
    "tags": []
   },
   "source": [
    "Can you think of a case where this would be useful?  Once you're ready, run the code cell below to see the answer and to receive credit for completing the problem."
   ]
  },
  {
   "cell_type": "code",
   "execution_count": 6,
   "id": "ab450e51",
   "metadata": {
    "execution": {
     "iopub.execute_input": "2022-06-29T06:14:55.714041Z",
     "iopub.status.busy": "2022-06-29T06:14:55.713680Z",
     "iopub.status.idle": "2022-06-29T06:14:55.720835Z",
     "shell.execute_reply": "2022-06-29T06:14:55.720154Z"
    },
    "papermill": {
     "duration": 0.022274,
     "end_time": "2022-06-29T06:14:55.724987",
     "exception": false,
     "start_time": "2022-06-29T06:14:55.702713",
     "status": "completed"
    },
    "tags": []
   },
   "outputs": [
    {
     "data": {
      "application/javascript": [
       "parent.postMessage({\"jupyterEvent\": \"custom.exercise_interaction\", \"data\": {\"interactionType\": 3, \"questionType\": 4, \"questionId\": \"2_RoundNdigitsProblem\", \"learnToolsVersion\": \"0.3.4\", \"valueTowardsCompletion\": 0.0, \"failureMessage\": \"\", \"exceptionClass\": \"\", \"trace\": \"\", \"outcomeType\": 4}}, \"*\")"
      ],
      "text/plain": [
       "<IPython.core.display.Javascript object>"
      ]
     },
     "metadata": {},
     "output_type": "display_data"
    },
    {
     "data": {
      "text/markdown": [
       "<span style=\"color:#33cc99\">Solution:</span> As you've seen, `ndigits=-1` rounds to the nearest 10, `ndigits=-2` rounds to the nearest 100 and so on. Where might this be useful? Suppose we're dealing with large numbers:\n",
       "\n",
       "> The area of Finland is 338,424 km²  \n",
       "> The area of Greenland is 2,166,086 km²\n",
       "\n",
       "We probably don't care whether it's really 338,424, or 338,425, or 338,177. All those digits of accuracy are just distracting. We can chop them off by calling `round()` with `ndigits=-3`:\n",
       "\n",
       "> The area of Finland is 338,000 km²  \n",
       "> The area of Greenland is 2,166,000 km²\n",
       "\n",
       "(We'll talk about how we would get the commas later when we talk about string formatting :))\n"
      ],
      "text/plain": [
       "Solution: As you've seen, `ndigits=-1` rounds to the nearest 10, `ndigits=-2` rounds to the nearest 100 and so on. Where might this be useful? Suppose we're dealing with large numbers:\n",
       "\n",
       "> The area of Finland is 338,424 km²  \n",
       "> The area of Greenland is 2,166,086 km²\n",
       "\n",
       "We probably don't care whether it's really 338,424, or 338,425, or 338,177. All those digits of accuracy are just distracting. We can chop them off by calling `round()` with `ndigits=-3`:\n",
       "\n",
       "> The area of Finland is 338,000 km²  \n",
       "> The area of Greenland is 2,166,000 km²\n",
       "\n",
       "(We'll talk about how we would get the commas later when we talk about string formatting :))"
      ]
     },
     "metadata": {},
     "output_type": "display_data"
    }
   ],
   "source": [
    "# Check your answer (Run this code cell to receive credit!)\n",
    "q2.solution()"
   ]
  },
  {
   "cell_type": "markdown",
   "id": "9c7b6d31",
   "metadata": {
    "papermill": {
     "duration": 0.006234,
     "end_time": "2022-06-29T06:14:55.739199",
     "exception": false,
     "start_time": "2022-06-29T06:14:55.732965",
     "status": "completed"
    },
    "tags": []
   },
   "source": [
    "# 3.\n",
    "\n",
    "In the previous exercise, the candy-sharing friends Alice, Bob and Carol tried to split candies evenly. For the sake of their friendship, any candies left over would be smashed. For example, if they collectively bring home 91 candies, they'll take 30 each and smash 1.\n",
    "\n",
    "Below is a simple function that will calculate the number of candies to smash for *any* number of total candies.\n",
    "\n",
    "Modify it so that it optionally takes a second argument representing the number of friends the candies are being split between. If no second argument is provided, it should assume 3 friends, as before.\n",
    "\n",
    "Update the docstring to reflect this new behaviour."
   ]
  },
  {
   "cell_type": "code",
   "execution_count": 7,
   "id": "89491dd5",
   "metadata": {
    "execution": {
     "iopub.execute_input": "2022-06-29T06:14:55.754532Z",
     "iopub.status.busy": "2022-06-29T06:14:55.753675Z",
     "iopub.status.idle": "2022-06-29T06:14:55.763311Z",
     "shell.execute_reply": "2022-06-29T06:14:55.762273Z"
    },
    "papermill": {
     "duration": 0.019588,
     "end_time": "2022-06-29T06:14:55.765443",
     "exception": false,
     "start_time": "2022-06-29T06:14:55.745855",
     "status": "completed"
    },
    "tags": []
   },
   "outputs": [
    {
     "data": {
      "application/javascript": [
       "parent.postMessage({\"jupyterEvent\": \"custom.exercise_interaction\", \"data\": {\"outcomeType\": 1, \"valueTowardsCompletion\": 0.16666666666666666, \"interactionType\": 1, \"questionType\": 2, \"questionId\": \"3_CandySmashingFunctionProblem\", \"learnToolsVersion\": \"0.3.4\", \"failureMessage\": \"\", \"exceptionClass\": \"\", \"trace\": \"\"}}, \"*\")"
      ],
      "text/plain": [
       "<IPython.core.display.Javascript object>"
      ]
     },
     "metadata": {},
     "output_type": "display_data"
    },
    {
     "data": {
      "text/markdown": [
       "<span style=\"color:#33cc33\">Correct</span>"
      ],
      "text/plain": [
       "Correct"
      ]
     },
     "metadata": {},
     "output_type": "display_data"
    }
   ],
   "source": [
    "def to_smash(total_candies, num_of_friends=3):\n",
    "    \"\"\"Return the number of leftover candies that must be smashed after distributing\n",
    "    the given number of candies evenly between 3 friends.\n",
    "    \n",
    "    >>> to_smash(91)\n",
    "    1\n",
    "    \"\"\"\n",
    "    return total_candies % num_of_friends\n",
    "\n",
    "# Check your answer\n",
    "q3.check()"
   ]
  },
  {
   "cell_type": "code",
   "execution_count": 8,
   "id": "d025fb60",
   "metadata": {
    "execution": {
     "iopub.execute_input": "2022-06-29T06:14:55.780715Z",
     "iopub.status.busy": "2022-06-29T06:14:55.780324Z",
     "iopub.status.idle": "2022-06-29T06:14:55.789603Z",
     "shell.execute_reply": "2022-06-29T06:14:55.788542Z"
    },
    "papermill": {
     "duration": 0.019081,
     "end_time": "2022-06-29T06:14:55.791593",
     "exception": false,
     "start_time": "2022-06-29T06:14:55.772512",
     "status": "completed"
    },
    "tags": []
   },
   "outputs": [
    {
     "data": {
      "application/javascript": [
       "parent.postMessage({\"jupyterEvent\": \"custom.exercise_interaction\", \"data\": {\"interactionType\": 2, \"questionType\": 2, \"questionId\": \"3_CandySmashingFunctionProblem\", \"learnToolsVersion\": \"0.3.4\", \"valueTowardsCompletion\": 0.0, \"failureMessage\": \"\", \"exceptionClass\": \"\", \"trace\": \"\", \"outcomeType\": 4}}, \"*\")"
      ],
      "text/plain": [
       "<IPython.core.display.Javascript object>"
      ]
     },
     "metadata": {},
     "output_type": "display_data"
    },
    {
     "data": {
      "text/markdown": [
       "<span style=\"color:#3366cc\">Hint:</span> Refer to the section of the last tutorial notebook where we talked about default arguments"
      ],
      "text/plain": [
       "Hint: Refer to the section of the last tutorial notebook where we talked about default arguments"
      ]
     },
     "metadata": {},
     "output_type": "display_data"
    }
   ],
   "source": [
    "q3.hint()"
   ]
  },
  {
   "cell_type": "code",
   "execution_count": 9,
   "id": "59789aa1",
   "metadata": {
    "execution": {
     "iopub.execute_input": "2022-06-29T06:14:55.808202Z",
     "iopub.status.busy": "2022-06-29T06:14:55.807855Z",
     "iopub.status.idle": "2022-06-29T06:14:55.815420Z",
     "shell.execute_reply": "2022-06-29T06:14:55.814403Z"
    },
    "papermill": {
     "duration": 0.018457,
     "end_time": "2022-06-29T06:14:55.817534",
     "exception": false,
     "start_time": "2022-06-29T06:14:55.799077",
     "status": "completed"
    },
    "tags": []
   },
   "outputs": [
    {
     "data": {
      "application/javascript": [
       "parent.postMessage({\"jupyterEvent\": \"custom.exercise_interaction\", \"data\": {\"interactionType\": 3, \"questionType\": 2, \"questionId\": \"3_CandySmashingFunctionProblem\", \"learnToolsVersion\": \"0.3.4\", \"valueTowardsCompletion\": 0.0, \"failureMessage\": \"\", \"exceptionClass\": \"\", \"trace\": \"\", \"outcomeType\": 4}}, \"*\")"
      ],
      "text/plain": [
       "<IPython.core.display.Javascript object>"
      ]
     },
     "metadata": {},
     "output_type": "display_data"
    },
    {
     "data": {
      "text/markdown": [
       "<span style=\"color:#33cc99\">Solution:</span> \n",
       "```python\n",
       "def to_smash(total_candies, n_friends=3):\n",
       "    return total_candies % n_friends\n",
       "```"
      ],
      "text/plain": [
       "Solution: \n",
       "```python\n",
       "def to_smash(total_candies, n_friends=3):\n",
       "    return total_candies % n_friends\n",
       "```"
      ]
     },
     "metadata": {},
     "output_type": "display_data"
    }
   ],
   "source": [
    "q3.solution()"
   ]
  },
  {
   "cell_type": "markdown",
   "id": "f6bdb417",
   "metadata": {
    "papermill": {
     "duration": 0.007126,
     "end_time": "2022-06-29T06:14:55.832230",
     "exception": false,
     "start_time": "2022-06-29T06:14:55.825104",
     "status": "completed"
    },
    "tags": []
   },
   "source": [
    "# 4. (Optional)\n",
    "\n",
    "It may not be fun, but reading and understanding error messages will be an important part of your Python career.\n",
    "\n",
    "Each code cell below contains some commented buggy code. For each cell...\n",
    "\n",
    "1. Read the code and predict what you think will happen when it's run.\n",
    "2. Then uncomment the code and run it to see what happens. (**Tip**: In the kernel editor, you can highlight several lines and press `ctrl`+`/` to toggle commenting.)\n",
    "3. Fix the code (so that it accomplishes its intended purpose without throwing an exception)\n",
    "\n",
    "<!-- TODO: should this be autochecked? Delta is probably pretty small. -->"
   ]
  },
  {
   "cell_type": "code",
   "execution_count": 10,
   "id": "e33470b8",
   "metadata": {
    "execution": {
     "iopub.execute_input": "2022-06-29T06:14:55.848724Z",
     "iopub.status.busy": "2022-06-29T06:14:55.848271Z",
     "iopub.status.idle": "2022-06-29T06:14:55.854713Z",
     "shell.execute_reply": "2022-06-29T06:14:55.853919Z"
    },
    "papermill": {
     "duration": 0.01715,
     "end_time": "2022-06-29T06:14:55.856746",
     "exception": false,
     "start_time": "2022-06-29T06:14:55.839596",
     "status": "completed"
    },
    "tags": []
   },
   "outputs": [
    {
     "data": {
      "text/plain": [
       "10.0"
      ]
     },
     "execution_count": 10,
     "metadata": {},
     "output_type": "execute_result"
    }
   ],
   "source": [
    "round_to_two_places(9.9999)"
   ]
  },
  {
   "cell_type": "code",
   "execution_count": 11,
   "id": "c4fc594c",
   "metadata": {
    "execution": {
     "iopub.execute_input": "2022-06-29T06:14:55.875370Z",
     "iopub.status.busy": "2022-06-29T06:14:55.874616Z",
     "iopub.status.idle": "2022-06-29T06:14:55.881055Z",
     "shell.execute_reply": "2022-06-29T06:14:55.879650Z"
    },
    "papermill": {
     "duration": 0.018995,
     "end_time": "2022-06-29T06:14:55.884610",
     "exception": false,
     "start_time": "2022-06-29T06:14:55.865615",
     "status": "completed"
    },
    "tags": []
   },
   "outputs": [
    {
     "name": "stdout",
     "output_type": "stream",
     "text": [
      "5\n"
     ]
    }
   ],
   "source": [
    "x = -10\n",
    "y = 5\n",
    "# # Which of the two variables above has the smallest absolute value?\n",
    "smallest_abs = min(abs(x), abs(y))\n",
    "print(smallest_abs)"
   ]
  },
  {
   "cell_type": "code",
   "execution_count": 12,
   "id": "db3f080e",
   "metadata": {
    "execution": {
     "iopub.execute_input": "2022-06-29T06:14:55.902690Z",
     "iopub.status.busy": "2022-06-29T06:14:55.902355Z",
     "iopub.status.idle": "2022-06-29T06:14:55.907512Z",
     "shell.execute_reply": "2022-06-29T06:14:55.906423Z"
    },
    "papermill": {
     "duration": 0.016461,
     "end_time": "2022-06-29T06:14:55.909727",
     "exception": false,
     "start_time": "2022-06-29T06:14:55.893266",
     "status": "completed"
    },
    "tags": []
   },
   "outputs": [
    {
     "name": "stdout",
     "output_type": "stream",
     "text": [
      "5\n"
     ]
    }
   ],
   "source": [
    "def f(x):\n",
    "    y = abs(x)\n",
    "    return y\n",
    "\n",
    "print(f(5))"
   ]
  },
  {
   "cell_type": "markdown",
   "id": "af483f74",
   "metadata": {
    "papermill": {
     "duration": 0.008002,
     "end_time": "2022-06-29T06:14:55.925580",
     "exception": false,
     "start_time": "2022-06-29T06:14:55.917578",
     "status": "completed"
    },
    "tags": []
   },
   "source": [
    "# Keep Going\n",
    "\n",
    "Nice job with the code. Next up, you'll learn about *conditionals*, which you'll need to **[write interesting programs](https://www.kaggle.com/colinmorris/booleans-and-conditionals)**. "
   ]
  },
  {
   "cell_type": "markdown",
   "id": "974d8c7c",
   "metadata": {
    "papermill": {
     "duration": 0.007778,
     "end_time": "2022-06-29T06:14:55.941470",
     "exception": false,
     "start_time": "2022-06-29T06:14:55.933692",
     "status": "completed"
    },
    "tags": []
   },
   "source": [
    "---\n",
    "\n",
    "\n",
    "\n",
    "\n",
    "*Have questions or comments? Visit the [course discussion forum](https://www.kaggle.com/learn/python/discussion) to chat with other learners.*"
   ]
  }
 ],
 "metadata": {
  "kernelspec": {
   "display_name": "Python 3",
   "language": "python",
   "name": "python3"
  },
  "language_info": {
   "codemirror_mode": {
    "name": "ipython",
    "version": 3
   },
   "file_extension": ".py",
   "mimetype": "text/x-python",
   "name": "python",
   "nbconvert_exporter": "python",
   "pygments_lexer": "ipython3",
   "version": "3.7.12"
  },
  "papermill": {
   "default_parameters": {},
   "duration": 10.310857,
   "end_time": "2022-06-29T06:14:56.570098",
   "environment_variables": {},
   "exception": null,
   "input_path": "__notebook__.ipynb",
   "output_path": "__notebook__.ipynb",
   "parameters": {},
   "start_time": "2022-06-29T06:14:46.259241",
   "version": "2.3.4"
  }
 },
 "nbformat": 4,
 "nbformat_minor": 5
}
