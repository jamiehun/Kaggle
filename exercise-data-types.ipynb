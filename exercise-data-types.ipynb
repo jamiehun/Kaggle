{
 "cells": [
  {
   "cell_type": "markdown",
   "id": "ca29fbfb",
   "metadata": {
    "papermill": {
     "duration": 0.009436,
     "end_time": "2022-06-27T04:41:51.198071",
     "exception": false,
     "start_time": "2022-06-27T04:41:51.188635",
     "status": "completed"
    },
    "tags": []
   },
   "source": [
    "**This notebook is an exercise in the [Intro to Programming](https://www.kaggle.com/learn/intro-to-programming) course.  You can reference the tutorial at [this link](https://www.kaggle.com/alexisbcook/data-types).**\n",
    "\n",
    "---\n"
   ]
  },
  {
   "cell_type": "markdown",
   "id": "fa2b4783",
   "metadata": {
    "papermill": {
     "duration": 0.008811,
     "end_time": "2022-06-27T04:41:51.215887",
     "exception": false,
     "start_time": "2022-06-27T04:41:51.207076",
     "status": "completed"
    },
    "tags": []
   },
   "source": [
    "In the tutorial, you learned about four different data types: floats, integers, strings, and booleans.  In this exercise, you'll experiment with them.\n",
    "\n",
    "# Set up the notebook\n",
    "\n",
    "Run the next code cell without changes to set up the notebook."
   ]
  },
  {
   "cell_type": "code",
   "execution_count": 1,
   "id": "fb274cdc",
   "metadata": {
    "execution": {
     "iopub.execute_input": "2022-06-27T04:41:51.235972Z",
     "iopub.status.busy": "2022-06-27T04:41:51.235497Z",
     "iopub.status.idle": "2022-06-27T04:41:51.314390Z",
     "shell.execute_reply": "2022-06-27T04:41:51.312542Z"
    },
    "papermill": {
     "duration": 0.092243,
     "end_time": "2022-06-27T04:41:51.316746",
     "exception": false,
     "start_time": "2022-06-27T04:41:51.224503",
     "status": "completed"
    },
    "tags": []
   },
   "outputs": [
    {
     "name": "stdout",
     "output_type": "stream",
     "text": [
      "Setup complete.\n"
     ]
    }
   ],
   "source": [
    "# Set up the exercise\n",
    "from learntools.core import binder\n",
    "binder.bind(globals())\n",
    "from learntools.intro_to_programming.ex3 import *\n",
    "print('Setup complete.')"
   ]
  },
  {
   "cell_type": "markdown",
   "id": "c874bc84",
   "metadata": {
    "papermill": {
     "duration": 0.00506,
     "end_time": "2022-06-27T04:41:51.328001",
     "exception": false,
     "start_time": "2022-06-27T04:41:51.322941",
     "status": "completed"
    },
    "tags": []
   },
   "source": [
    "# Question 1\n",
    "\n",
    "You have seen how to convert a float to an integer with the `int` function.  Try this out yourself by running the code cell below."
   ]
  },
  {
   "cell_type": "code",
   "execution_count": 2,
   "id": "a3cee1bb",
   "metadata": {
    "execution": {
     "iopub.execute_input": "2022-06-27T04:41:51.343437Z",
     "iopub.status.busy": "2022-06-27T04:41:51.342767Z",
     "iopub.status.idle": "2022-06-27T04:41:51.349086Z",
     "shell.execute_reply": "2022-06-27T04:41:51.347636Z"
    },
    "papermill": {
     "duration": 0.017625,
     "end_time": "2022-06-27T04:41:51.352366",
     "exception": false,
     "start_time": "2022-06-27T04:41:51.334741",
     "status": "completed"
    },
    "tags": []
   },
   "outputs": [
    {
     "name": "stdout",
     "output_type": "stream",
     "text": [
      "1.0\n",
      "<class 'float'>\n",
      "1\n",
      "<class 'int'>\n"
     ]
    }
   ],
   "source": [
    "# Define a float\n",
    "y = 1.\n",
    "print(y)\n",
    "print(type(y))\n",
    "\n",
    "# Convert float to integer with the int function\n",
    "z = int(y)\n",
    "print(z)\n",
    "print(type(z))"
   ]
  },
  {
   "cell_type": "markdown",
   "id": "bca9ca45",
   "metadata": {
    "papermill": {
     "duration": 0.009269,
     "end_time": "2022-06-27T04:41:51.370933",
     "exception": false,
     "start_time": "2022-06-27T04:41:51.361664",
     "status": "completed"
    },
    "tags": []
   },
   "source": [
    "In this case, the float you are using has no numbers after the decimal.  \n",
    "- But what happens when you try to convert a float with a fractional part to an integer?  \n",
    "- How does the outcome of the `int` function change for positive and negative numbers?\n",
    "\n",
    "Use the next code cell to investigate and answer these questions.  Feel free to add or remove any lines of code -- it is your workspace!"
   ]
  },
  {
   "cell_type": "code",
   "execution_count": 3,
   "id": "65a036d1",
   "metadata": {
    "execution": {
     "iopub.execute_input": "2022-06-27T04:41:51.390961Z",
     "iopub.status.busy": "2022-06-27T04:41:51.390327Z",
     "iopub.status.idle": "2022-06-27T04:41:51.397633Z",
     "shell.execute_reply": "2022-06-27T04:41:51.395741Z"
    },
    "papermill": {
     "duration": 0.019554,
     "end_time": "2022-06-27T04:41:51.399980",
     "exception": false,
     "start_time": "2022-06-27T04:41:51.380426",
     "status": "completed"
    },
    "tags": []
   },
   "outputs": [
    {
     "name": "stdout",
     "output_type": "stream",
     "text": [
      "-1\n",
      "-1\n",
      "3\n",
      "2\n",
      "-------------\n",
      "The fractional numbers are ignored\n"
     ]
    }
   ],
   "source": [
    "# Uncomment and run this code to get started!\n",
    "print(int(-1.2321))\n",
    "print(int(-1.747))\n",
    "print(int(3.94535))\n",
    "print(int(2.19774))\n",
    "print(\"-------------\")\n",
    "print(\"The fractional numbers are ignored\")"
   ]
  },
  {
   "cell_type": "markdown",
   "id": "d8be5881",
   "metadata": {
    "papermill": {
     "duration": 0.008314,
     "end_time": "2022-06-27T04:41:51.416908",
     "exception": false,
     "start_time": "2022-06-27T04:41:51.408594",
     "status": "completed"
    },
    "tags": []
   },
   "source": [
    "Once you have an answer, run the code cell below to see the solution.  Viewing the solution will give you credit for answering the problem."
   ]
  },
  {
   "cell_type": "code",
   "execution_count": 4,
   "id": "bd6c5881",
   "metadata": {
    "execution": {
     "iopub.execute_input": "2022-06-27T04:41:51.437412Z",
     "iopub.status.busy": "2022-06-27T04:41:51.436745Z",
     "iopub.status.idle": "2022-06-27T04:41:51.447853Z",
     "shell.execute_reply": "2022-06-27T04:41:51.446604Z"
    },
    "papermill": {
     "duration": 0.024533,
     "end_time": "2022-06-27T04:41:51.450818",
     "exception": false,
     "start_time": "2022-06-27T04:41:51.426285",
     "status": "completed"
    },
    "tags": []
   },
   "outputs": [
    {
     "data": {
      "application/javascript": [
       "parent.postMessage({\"jupyterEvent\": \"custom.exercise_interaction\", \"data\": {\"outcomeType\": 1, \"valueTowardsCompletion\": 0.2, \"interactionType\": 1, \"questionType\": 4, \"questionId\": \"1_FloatToInt\", \"learnToolsVersion\": \"0.3.4\", \"failureMessage\": \"\", \"exceptionClass\": \"\", \"trace\": \"\"}}, \"*\")"
      ],
      "text/plain": [
       "<IPython.core.display.Javascript object>"
      ]
     },
     "metadata": {},
     "output_type": "display_data"
    },
    {
     "data": {
      "text/markdown": [
       "<span style=\"color:#33cc33\">Correct:</span> \n",
       "\n",
       "Negative floats are always rounded UP to the closest integer (for instance, both -1.1 and -1.9 are rounded up to -1). Positive floats are always rounded DOWN to the closest integer (for instance, 2.1 and 2.9 are rounded down to 2)."
      ],
      "text/plain": [
       "Correct: \n",
       "\n",
       "Negative floats are always rounded UP to the closest integer (for instance, both -1.1 and -1.9 are rounded up to -1). Positive floats are always rounded DOWN to the closest integer (for instance, 2.1 and 2.9 are rounded down to 2)."
      ]
     },
     "metadata": {},
     "output_type": "display_data"
    }
   ],
   "source": [
    "# Check your answer (Run this code cell to receive credit!)\n",
    "q1.check()"
   ]
  },
  {
   "cell_type": "markdown",
   "id": "680f713d",
   "metadata": {
    "papermill": {
     "duration": 0.008805,
     "end_time": "2022-06-27T04:41:51.468959",
     "exception": false,
     "start_time": "2022-06-27T04:41:51.460154",
     "status": "completed"
    },
    "tags": []
   },
   "source": [
    "# Question 2\n",
    "\n",
    "In the tutorial, you learned about booleans (which can take a value of `True` or `False`), in addition to integers, floats, and strings.  For this question, your goal is to determine what happens when you multiply a boolean by any of these data types.  Specifically, \n",
    "- What happens when you multiply an integer or float by `True`?  What happens when you multiply them by `False`?  How does the answer change if the numbers are positive or negative?\n",
    "- What happens when you multiply a string by `True`?  By `False`?\n",
    "\n",
    "Use the next code cell for your investigation. "
   ]
  },
  {
   "cell_type": "code",
   "execution_count": 5,
   "id": "e408eb62",
   "metadata": {
    "execution": {
     "iopub.execute_input": "2022-06-27T04:41:51.490784Z",
     "iopub.status.busy": "2022-06-27T04:41:51.490307Z",
     "iopub.status.idle": "2022-06-27T04:41:51.495863Z",
     "shell.execute_reply": "2022-06-27T04:41:51.494440Z"
    },
    "papermill": {
     "duration": 0.01938,
     "end_time": "2022-06-27T04:41:51.498381",
     "exception": false,
     "start_time": "2022-06-27T04:41:51.479001",
     "status": "completed"
    },
    "tags": []
   },
   "outputs": [
    {
     "name": "stdout",
     "output_type": "stream",
     "text": [
      "3\n",
      "-3.1\n",
      "<class 'str'>\n",
      "0\n"
     ]
    }
   ],
   "source": [
    "# Uncomment and run this code to get started!\n",
    "print(3 * True)\n",
    "print(-3.1 * True)\n",
    "print(type(\"abc\" * False))\n",
    "print(len(\"abc\" * False))"
   ]
  },
  {
   "cell_type": "markdown",
   "id": "f00ddb96",
   "metadata": {
    "papermill": {
     "duration": 0.008942,
     "end_time": "2022-06-27T04:41:51.516780",
     "exception": false,
     "start_time": "2022-06-27T04:41:51.507838",
     "status": "completed"
    },
    "tags": []
   },
   "source": [
    "Once you have an answer, run the code cell below to see the solution.  Viewing the solution will give you credit for answering the problem."
   ]
  },
  {
   "cell_type": "code",
   "execution_count": 6,
   "id": "24069968",
   "metadata": {
    "execution": {
     "iopub.execute_input": "2022-06-27T04:41:51.537254Z",
     "iopub.status.busy": "2022-06-27T04:41:51.536882Z",
     "iopub.status.idle": "2022-06-27T04:41:51.544925Z",
     "shell.execute_reply": "2022-06-27T04:41:51.544289Z"
    },
    "papermill": {
     "duration": 0.02118,
     "end_time": "2022-06-27T04:41:51.547127",
     "exception": false,
     "start_time": "2022-06-27T04:41:51.525947",
     "status": "completed"
    },
    "tags": []
   },
   "outputs": [
    {
     "data": {
      "application/javascript": [
       "parent.postMessage({\"jupyterEvent\": \"custom.exercise_interaction\", \"data\": {\"outcomeType\": 1, \"valueTowardsCompletion\": 0.2, \"interactionType\": 1, \"questionType\": 4, \"questionId\": \"2_MultiplyBooleans\", \"learnToolsVersion\": \"0.3.4\", \"failureMessage\": \"\", \"exceptionClass\": \"\", \"trace\": \"\"}}, \"*\")"
      ],
      "text/plain": [
       "<IPython.core.display.Javascript object>"
      ]
     },
     "metadata": {},
     "output_type": "display_data"
    },
    {
     "data": {
      "text/markdown": [
       "<span style=\"color:#33cc33\">Correct:</span> \n",
       "\n",
       "When you multiple an integer or float by a boolean with value `True`, it just returns that same integer or float (and is equivalent to multiplying by 1).  If you multiply an integer or float by a boolean with value `False`, it always returns 0.  This is true for both positive and negative numbers.  If you multiply a string by a boolean with value `True`, it just returns that same string.  And if you multiply a string by a boolean with value `False`, it returns an empty string (or a string with length zero)."
      ],
      "text/plain": [
       "Correct: \n",
       "\n",
       "When you multiple an integer or float by a boolean with value `True`, it just returns that same integer or float (and is equivalent to multiplying by 1).  If you multiply an integer or float by a boolean with value `False`, it always returns 0.  This is true for both positive and negative numbers.  If you multiply a string by a boolean with value `True`, it just returns that same string.  And if you multiply a string by a boolean with value `False`, it returns an empty string (or a string with length zero)."
      ]
     },
     "metadata": {},
     "output_type": "display_data"
    }
   ],
   "source": [
    "# Check your answer (Run this code cell to receive credit!)\n",
    "q2.check()"
   ]
  },
  {
   "cell_type": "markdown",
   "id": "9b9245ba",
   "metadata": {
    "papermill": {
     "duration": 0.009113,
     "end_time": "2022-06-27T04:41:51.566002",
     "exception": false,
     "start_time": "2022-06-27T04:41:51.556889",
     "status": "completed"
    },
    "tags": []
   },
   "source": [
    "# Question 3\n",
    "\n",
    "In this question, you will build off your work from the previous exercise to write a function that estimates the value of a house.\n",
    "\n",
    "Use the next code cell to create a function `get_expected_cost` that takes as input three variables:\n",
    "- `beds` - number of bedrooms (data type float)\n",
    "- `baths` - number of bathrooms (data type float)\n",
    "- `has_basement` - whether or not the house has a basement (data type boolean)\n",
    "\n",
    "It should return the expected cost of a house with those characteristics. Assume that:\n",
    "- the expected cost for a house with 0 bedrooms and 0 bathrooms, and no basement is 80000, \n",
    "- each bedroom adds 30000 to the expected cost,\n",
    "- each bathroom adds 10000 to the expected cost, and\n",
    "- a basement adds 40000 to the expected cost.\n",
    "\n",
    "For instance,\n",
    "- a house with 1 bedroom, 1 bathroom, and no basement has an expected cost of 80000 + 30000 + 10000 = 120000.  This value will be calculated with `get_expected_cost(1, 1, False)`.\n",
    "- a house with 2 bedrooms, 1 bathroom, and a basement has an expected cost of 80000 + 2*30000 + 10000 + 40000 = 190000.  This value will be calculated with `get_expected_cost(2, 1, True)`.\n",
    "\n",
    "Remember you can always get a hint by uncommenting `q3.hint()` in the code cell following the next!"
   ]
  },
  {
   "cell_type": "code",
   "execution_count": 7,
   "id": "db140d80",
   "metadata": {
    "execution": {
     "iopub.execute_input": "2022-06-27T04:41:51.587770Z",
     "iopub.status.busy": "2022-06-27T04:41:51.587384Z",
     "iopub.status.idle": "2022-06-27T04:41:51.596955Z",
     "shell.execute_reply": "2022-06-27T04:41:51.595530Z"
    },
    "papermill": {
     "duration": 0.023198,
     "end_time": "2022-06-27T04:41:51.599515",
     "exception": false,
     "start_time": "2022-06-27T04:41:51.576317",
     "status": "completed"
    },
    "tags": []
   },
   "outputs": [
    {
     "data": {
      "application/javascript": [
       "parent.postMessage({\"jupyterEvent\": \"custom.exercise_interaction\", \"data\": {\"outcomeType\": 1, \"valueTowardsCompletion\": 0.2, \"interactionType\": 1, \"questionType\": 2, \"questionId\": \"3_EstimateHouseValueBool\", \"learnToolsVersion\": \"0.3.4\", \"failureMessage\": \"\", \"exceptionClass\": \"\", \"trace\": \"\"}}, \"*\")"
      ],
      "text/plain": [
       "<IPython.core.display.Javascript object>"
      ]
     },
     "metadata": {},
     "output_type": "display_data"
    },
    {
     "data": {
      "text/markdown": [
       "<span style=\"color:#33cc33\">Correct</span>"
      ],
      "text/plain": [
       "Correct"
      ]
     },
     "metadata": {},
     "output_type": "display_data"
    }
   ],
   "source": [
    "# TODO: Complete the function\n",
    "def get_expected_cost(beds, baths, has_basement):\n",
    "    value = 80000 + 30000 * beds + 10000 * baths + 40000 * has_basement\n",
    "    return value\n",
    "\n",
    "# Check your answer \n",
    "q3.check()"
   ]
  },
  {
   "cell_type": "code",
   "execution_count": 8,
   "id": "1da3a9dd",
   "metadata": {
    "execution": {
     "iopub.execute_input": "2022-06-27T04:41:51.621854Z",
     "iopub.status.busy": "2022-06-27T04:41:51.621338Z",
     "iopub.status.idle": "2022-06-27T04:41:51.633061Z",
     "shell.execute_reply": "2022-06-27T04:41:51.631678Z"
    },
    "papermill": {
     "duration": 0.025794,
     "end_time": "2022-06-27T04:41:51.635771",
     "exception": false,
     "start_time": "2022-06-27T04:41:51.609977",
     "status": "completed"
    },
    "tags": []
   },
   "outputs": [
    {
     "data": {
      "application/javascript": [
       "parent.postMessage({\"jupyterEvent\": \"custom.exercise_interaction\", \"data\": {\"interactionType\": 2, \"questionType\": 2, \"questionId\": \"3_EstimateHouseValueBool\", \"learnToolsVersion\": \"0.3.4\", \"valueTowardsCompletion\": 0.0, \"failureMessage\": \"\", \"exceptionClass\": \"\", \"trace\": \"\", \"outcomeType\": 4}}, \"*\")"
      ],
      "text/plain": [
       "<IPython.core.display.Javascript object>"
      ]
     },
     "metadata": {},
     "output_type": "display_data"
    },
    {
     "data": {
      "text/markdown": [
       "<span style=\"color:#3366cc\">Hint:</span> The variable `has_basement` is either `True` or `False`.  What happens when you multiply it by 40000 (the value of a basement)?  Refer to the previous question if you are unsure."
      ],
      "text/plain": [
       "Hint: The variable `has_basement` is either `True` or `False`.  What happens when you multiply it by 40000 (the value of a basement)?  Refer to the previous question if you are unsure."
      ]
     },
     "metadata": {},
     "output_type": "display_data"
    },
    {
     "data": {
      "application/javascript": [
       "parent.postMessage({\"jupyterEvent\": \"custom.exercise_interaction\", \"data\": {\"interactionType\": 3, \"questionType\": 2, \"questionId\": \"3_EstimateHouseValueBool\", \"learnToolsVersion\": \"0.3.4\", \"valueTowardsCompletion\": 0.0, \"failureMessage\": \"\", \"exceptionClass\": \"\", \"trace\": \"\", \"outcomeType\": 4}}, \"*\")"
      ],
      "text/plain": [
       "<IPython.core.display.Javascript object>"
      ]
     },
     "metadata": {},
     "output_type": "display_data"
    },
    {
     "data": {
      "text/markdown": [
       "<span style=\"color:#33cc99\">Solution:</span> \n",
       "```python\n",
       "def get_expected_cost(beds, baths, has_basement):\n",
       "    value = 80000 + 30000 * beds + 10000 * baths + 40000 * has_basement\n",
       "    return value\n",
       "\n",
       "```"
      ],
      "text/plain": [
       "Solution: \n",
       "```python\n",
       "def get_expected_cost(beds, baths, has_basement):\n",
       "    value = 80000 + 30000 * beds + 10000 * baths + 40000 * has_basement\n",
       "    return value\n",
       "\n",
       "```"
      ]
     },
     "metadata": {},
     "output_type": "display_data"
    }
   ],
   "source": [
    "# Uncomment to see a hint\n",
    "q3.hint()\n",
    "\n",
    "# Uncomment to view the solution\n",
    "q3.solution()"
   ]
  },
  {
   "cell_type": "markdown",
   "id": "3c6642f1",
   "metadata": {
    "papermill": {
     "duration": 0.010182,
     "end_time": "2022-06-27T04:41:51.656355",
     "exception": false,
     "start_time": "2022-06-27T04:41:51.646173",
     "status": "completed"
    },
    "tags": []
   },
   "source": [
    "# Question 4\n",
    "\n",
    "We'll continue our study of boolean arithmetic.  For this question, your task is to provide a description of what happpens when you add booleans. \n",
    "\n",
    "Use the next code cell for your investigation.  Feel free to add or remove any lines of code - use it as your workspace!"
   ]
  },
  {
   "cell_type": "code",
   "execution_count": 9,
   "id": "3dd15b4e",
   "metadata": {
    "execution": {
     "iopub.execute_input": "2022-06-27T04:41:51.678934Z",
     "iopub.status.busy": "2022-06-27T04:41:51.678638Z",
     "iopub.status.idle": "2022-06-27T04:41:51.684432Z",
     "shell.execute_reply": "2022-06-27T04:41:51.683267Z"
    },
    "papermill": {
     "duration": 0.020168,
     "end_time": "2022-06-27T04:41:51.686994",
     "exception": false,
     "start_time": "2022-06-27T04:41:51.666826",
     "status": "completed"
    },
    "tags": []
   },
   "outputs": [
    {
     "name": "stdout",
     "output_type": "stream",
     "text": [
      "0\n",
      "1\n",
      "1\n",
      "2\n",
      "3\n"
     ]
    }
   ],
   "source": [
    "print(False + False) # 0\n",
    "print(True + False) # 1\n",
    "print(False + True) # 1\n",
    "print(True + True) # 2\n",
    "print(False + True + True + True) # 3"
   ]
  },
  {
   "cell_type": "markdown",
   "id": "eaedb5b4",
   "metadata": {
    "papermill": {
     "duration": 0.010089,
     "end_time": "2022-06-27T04:41:51.707811",
     "exception": false,
     "start_time": "2022-06-27T04:41:51.697722",
     "status": "completed"
    },
    "tags": []
   },
   "source": [
    "Once you have an answer, run the code cell below to see the solution.  Viewing the solution will give you credit for answering the problem."
   ]
  },
  {
   "cell_type": "code",
   "execution_count": 10,
   "id": "5bf66df1",
   "metadata": {
    "execution": {
     "iopub.execute_input": "2022-06-27T04:41:51.730830Z",
     "iopub.status.busy": "2022-06-27T04:41:51.730543Z",
     "iopub.status.idle": "2022-06-27T04:41:51.737427Z",
     "shell.execute_reply": "2022-06-27T04:41:51.736534Z"
    },
    "papermill": {
     "duration": 0.021353,
     "end_time": "2022-06-27T04:41:51.739781",
     "exception": false,
     "start_time": "2022-06-27T04:41:51.718428",
     "status": "completed"
    },
    "tags": []
   },
   "outputs": [
    {
     "data": {
      "application/javascript": [
       "parent.postMessage({\"jupyterEvent\": \"custom.exercise_interaction\", \"data\": {\"outcomeType\": 1, \"valueTowardsCompletion\": 0.2, \"interactionType\": 1, \"questionType\": 4, \"questionId\": \"4_AddingBooleans\", \"learnToolsVersion\": \"0.3.4\", \"failureMessage\": \"\", \"exceptionClass\": \"\", \"trace\": \"\"}}, \"*\")"
      ],
      "text/plain": [
       "<IPython.core.display.Javascript object>"
      ]
     },
     "metadata": {},
     "output_type": "display_data"
    },
    {
     "data": {
      "text/markdown": [
       "<span style=\"color:#33cc33\">Correct:</span> \n",
       "\n",
       "When you add booleans, adding `False` is equivalent to adding 0, and adding `True` is equivalent to adding 1."
      ],
      "text/plain": [
       "Correct: \n",
       "\n",
       "When you add booleans, adding `False` is equivalent to adding 0, and adding `True` is equivalent to adding 1."
      ]
     },
     "metadata": {},
     "output_type": "display_data"
    }
   ],
   "source": [
    "# Check your answer (Run this code cell to receive credit!)\n",
    "q4.check()"
   ]
  },
  {
   "cell_type": "markdown",
   "id": "484512d1",
   "metadata": {
    "papermill": {
     "duration": 0.010567,
     "end_time": "2022-06-27T04:41:51.761496",
     "exception": false,
     "start_time": "2022-06-27T04:41:51.750929",
     "status": "completed"
    },
    "tags": []
   },
   "source": [
    "# 🌶️ Question 5\n",
    "\n",
    "You own an online shop where you sell rings with custom engravings.  You offer both gold plated and solid gold rings.\n",
    "- Gold plated rings have a base cost of \\\\$50, and you charge \\\\$7 per engraved unit.  \n",
    "- Solid gold rings have a base cost of \\\\$100, and you charge \\\\$10 per engraved unit.\n",
    "- Spaces and punctuation are counted as engraved units.\n",
    "\n",
    "Write a function `cost_of_project()` that takes two arguments:\n",
    "- `engraving` - a Python string with the text of the engraving\n",
    "- `solid_gold` - a Boolean that indicates whether the ring is solid gold\n",
    "\n",
    "It should return the cost of the project.  This question should be fairly challenging, and you may need a hint."
   ]
  },
  {
   "cell_type": "code",
   "execution_count": 11,
   "id": "2aefecaa",
   "metadata": {
    "execution": {
     "iopub.execute_input": "2022-06-27T04:41:51.786523Z",
     "iopub.status.busy": "2022-06-27T04:41:51.785675Z",
     "iopub.status.idle": "2022-06-27T04:41:51.795067Z",
     "shell.execute_reply": "2022-06-27T04:41:51.794345Z"
    },
    "papermill": {
     "duration": 0.023803,
     "end_time": "2022-06-27T04:41:51.797108",
     "exception": false,
     "start_time": "2022-06-27T04:41:51.773305",
     "status": "completed"
    },
    "tags": []
   },
   "outputs": [
    {
     "data": {
      "application/javascript": [
       "parent.postMessage({\"jupyterEvent\": \"custom.exercise_interaction\", \"data\": {\"outcomeType\": 1, \"valueTowardsCompletion\": 0.2, \"interactionType\": 1, \"questionType\": 2, \"questionId\": \"5_CustomEngravings\", \"learnToolsVersion\": \"0.3.4\", \"failureMessage\": \"\", \"exceptionClass\": \"\", \"trace\": \"\"}}, \"*\")"
      ],
      "text/plain": [
       "<IPython.core.display.Javascript object>"
      ]
     },
     "metadata": {},
     "output_type": "display_data"
    },
    {
     "data": {
      "text/markdown": [
       "<span style=\"color:#33cc33\">Correct</span>"
      ],
      "text/plain": [
       "Correct"
      ]
     },
     "metadata": {},
     "output_type": "display_data"
    }
   ],
   "source": [
    "def cost_of_project(engraving, solid_gold):\n",
    "    cost = (not solid_gold) * (50 + len(engraving) * 7) + solid_gold * (100 + len(engraving) * 10)\n",
    "    return cost\n",
    "\n",
    "# Check your answer\n",
    "q5.check()"
   ]
  },
  {
   "cell_type": "code",
   "execution_count": 12,
   "id": "3893b368",
   "metadata": {
    "execution": {
     "iopub.execute_input": "2022-06-27T04:41:51.824086Z",
     "iopub.status.busy": "2022-06-27T04:41:51.822353Z",
     "iopub.status.idle": "2022-06-27T04:41:51.835962Z",
     "shell.execute_reply": "2022-06-27T04:41:51.834664Z"
    },
    "papermill": {
     "duration": 0.030435,
     "end_time": "2022-06-27T04:41:51.839166",
     "exception": false,
     "start_time": "2022-06-27T04:41:51.808731",
     "status": "completed"
    },
    "tags": []
   },
   "outputs": [
    {
     "data": {
      "application/javascript": [
       "parent.postMessage({\"jupyterEvent\": \"custom.exercise_interaction\", \"data\": {\"interactionType\": 2, \"questionType\": 2, \"questionId\": \"5_CustomEngravings\", \"learnToolsVersion\": \"0.3.4\", \"valueTowardsCompletion\": 0.0, \"failureMessage\": \"\", \"exceptionClass\": \"\", \"trace\": \"\", \"outcomeType\": 4}}, \"*\")"
      ],
      "text/plain": [
       "<IPython.core.display.Javascript object>"
      ]
     },
     "metadata": {},
     "output_type": "display_data"
    },
    {
     "data": {
      "text/markdown": [
       "<span style=\"color:#3366cc\">Hint:</span> There are two options - either the project uses solid gold or does not.  With this in mind, you can structure your solution like this: `cost = solid_gold * ____ + (not_solid_gold) * ____`.  You need to figure out how to fill in the blanks. Also, remember that:\n",
       "- If `solid_gold = True`, then `(not solid_gold) = False`, and if `solid_gold = False`, then `(not solid_gold) = True`.\n",
       "- Multiplying an integer by `True` is equivalent to multiplying it by 1, and multiplying an integer by `False` is equivalent to multiplying it by 0."
      ],
      "text/plain": [
       "Hint: There are two options - either the project uses solid gold or does not.  With this in mind, you can structure your solution like this: `cost = solid_gold * ____ + (not_solid_gold) * ____`.  You need to figure out how to fill in the blanks. Also, remember that:\n",
       "- If `solid_gold = True`, then `(not solid_gold) = False`, and if `solid_gold = False`, then `(not solid_gold) = True`.\n",
       "- Multiplying an integer by `True` is equivalent to multiplying it by 1, and multiplying an integer by `False` is equivalent to multiplying it by 0."
      ]
     },
     "metadata": {},
     "output_type": "display_data"
    },
    {
     "data": {
      "application/javascript": [
       "parent.postMessage({\"jupyterEvent\": \"custom.exercise_interaction\", \"data\": {\"interactionType\": 3, \"questionType\": 2, \"questionId\": \"5_CustomEngravings\", \"learnToolsVersion\": \"0.3.4\", \"valueTowardsCompletion\": 0.0, \"failureMessage\": \"\", \"exceptionClass\": \"\", \"trace\": \"\", \"outcomeType\": 4}}, \"*\")"
      ],
      "text/plain": [
       "<IPython.core.display.Javascript object>"
      ]
     },
     "metadata": {},
     "output_type": "display_data"
    },
    {
     "data": {
      "text/markdown": [
       "<span style=\"color:#33cc99\">Solution:</span> \n",
       "```python\n",
       "def cost_of_project(engraving, solid_gold):\n",
       "    cost = solid_gold * (100 + 10 * len(engraving)) + (not solid_gold) * (50 + 7 * len(engraving))\n",
       "    return cost\n",
       "\n",
       "```"
      ],
      "text/plain": [
       "Solution: \n",
       "```python\n",
       "def cost_of_project(engraving, solid_gold):\n",
       "    cost = solid_gold * (100 + 10 * len(engraving)) + (not solid_gold) * (50 + 7 * len(engraving))\n",
       "    return cost\n",
       "\n",
       "```"
      ]
     },
     "metadata": {},
     "output_type": "display_data"
    }
   ],
   "source": [
    "# Uncomment to see a hint\n",
    "q5.hint()\n",
    "\n",
    "# Uncomment to view the solution\n",
    "q5.solution()"
   ]
  },
  {
   "cell_type": "markdown",
   "id": "87ae6c3d",
   "metadata": {
    "papermill": {
     "duration": 0.011896,
     "end_time": "2022-06-27T04:41:51.864311",
     "exception": false,
     "start_time": "2022-06-27T04:41:51.852415",
     "status": "completed"
    },
    "tags": []
   },
   "source": [
    "Run the next code cell to calculate the cost of engraving `Charlie+Denver` on a solid gold ring."
   ]
  },
  {
   "cell_type": "code",
   "execution_count": 13,
   "id": "afc2e717",
   "metadata": {
    "execution": {
     "iopub.execute_input": "2022-06-27T04:41:51.891353Z",
     "iopub.status.busy": "2022-06-27T04:41:51.890819Z",
     "iopub.status.idle": "2022-06-27T04:41:51.896885Z",
     "shell.execute_reply": "2022-06-27T04:41:51.895814Z"
    },
    "papermill": {
     "duration": 0.024074,
     "end_time": "2022-06-27T04:41:51.900519",
     "exception": false,
     "start_time": "2022-06-27T04:41:51.876445",
     "status": "completed"
    },
    "tags": []
   },
   "outputs": [
    {
     "name": "stdout",
     "output_type": "stream",
     "text": [
      "240\n"
     ]
    }
   ],
   "source": [
    "project_one = cost_of_project(\"Charlie+Denver\", True) # 100 + 14 * 10 = 240\n",
    "print(project_one)"
   ]
  },
  {
   "cell_type": "markdown",
   "id": "9c810a90",
   "metadata": {
    "papermill": {
     "duration": 0.013842,
     "end_time": "2022-06-27T04:41:51.927422",
     "exception": false,
     "start_time": "2022-06-27T04:41:51.913580",
     "status": "completed"
    },
    "tags": []
   },
   "source": [
    "Use the next code cell to calculate the cost of engraving `08/10/2000` on a gold plated ring."
   ]
  },
  {
   "cell_type": "code",
   "execution_count": 14,
   "id": "89b8be93",
   "metadata": {
    "execution": {
     "iopub.execute_input": "2022-06-27T04:41:51.954986Z",
     "iopub.status.busy": "2022-06-27T04:41:51.954317Z",
     "iopub.status.idle": "2022-06-27T04:41:51.959857Z",
     "shell.execute_reply": "2022-06-27T04:41:51.957862Z"
    },
    "papermill": {
     "duration": 0.022686,
     "end_time": "2022-06-27T04:41:51.962759",
     "exception": false,
     "start_time": "2022-06-27T04:41:51.940073",
     "status": "completed"
    },
    "tags": []
   },
   "outputs": [
    {
     "name": "stdout",
     "output_type": "stream",
     "text": [
      "120\n"
     ]
    }
   ],
   "source": [
    "project_two = cost_of_project(\"08/10/2000\", False) # 50 + 10 * 7 = 120\n",
    "print(project_two)"
   ]
  },
  {
   "cell_type": "markdown",
   "id": "b8ae9f09",
   "metadata": {
    "papermill": {
     "duration": 0.01279,
     "end_time": "2022-06-27T04:41:51.988569",
     "exception": false,
     "start_time": "2022-06-27T04:41:51.975779",
     "status": "completed"
    },
    "tags": []
   },
   "source": [
    "# Keep going\n",
    "\n",
    "Continue to the next lesson to **[learn about conditions and conditional statements](https://www.kaggle.com/alexisbcook/conditions-and-conditional-statements)**."
   ]
  },
  {
   "cell_type": "markdown",
   "id": "fb4e0f67",
   "metadata": {
    "papermill": {
     "duration": 0.01242,
     "end_time": "2022-06-27T04:41:52.013580",
     "exception": false,
     "start_time": "2022-06-27T04:41:52.001160",
     "status": "completed"
    },
    "tags": []
   },
   "source": [
    "---\n",
    "\n",
    "\n",
    "\n",
    "\n",
    "*Have questions or comments? Visit the [course discussion forum](https://www.kaggle.com/learn/intro-to-programming/discussion) to chat with other learners.*"
   ]
  }
 ],
 "metadata": {
  "kernelspec": {
   "display_name": "Python 3",
   "language": "python",
   "name": "python3"
  },
  "language_info": {
   "codemirror_mode": {
    "name": "ipython",
    "version": 3
   },
   "file_extension": ".py",
   "mimetype": "text/x-python",
   "name": "python",
   "nbconvert_exporter": "python",
   "pygments_lexer": "ipython3",
   "version": "3.7.12"
  },
  "papermill": {
   "default_parameters": {},
   "duration": 13.719066,
   "end_time": "2022-06-27T04:41:52.949658",
   "environment_variables": {},
   "exception": null,
   "input_path": "__notebook__.ipynb",
   "output_path": "__notebook__.ipynb",
   "parameters": {},
   "start_time": "2022-06-27T04:41:39.230592",
   "version": "2.3.4"
  }
 },
 "nbformat": 4,
 "nbformat_minor": 5
}
